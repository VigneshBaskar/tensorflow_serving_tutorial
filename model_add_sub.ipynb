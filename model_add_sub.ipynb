{
 "cells": [
  {
   "cell_type": "code",
   "execution_count": null,
   "metadata": {
    "collapsed": true
   },
   "outputs": [],
   "source": [
    "import os\n",
    "import tensorflow as tf"
   ]
  },
  {
   "cell_type": "code",
   "execution_count": null,
   "metadata": {
    "collapsed": true
   },
   "outputs": [],
   "source": [
    "# Graph\n",
    "\n",
    "placeholder_name = 'a'\n",
    "operation_name = 'sub'\n",
    "\n",
    "a = tf.placeholder(tf.int32, name=placeholder_name)\n",
    "b = tf.constant(10)\n",
    "\n",
    "c = tf.subtract(a, b, name=operation_name)"
   ]
  },
  {
   "cell_type": "code",
   "execution_count": null,
   "metadata": {
    "collapsed": true
   },
   "outputs": [],
   "source": [
    "with tf.Session() as sess:\n",
    "    check = sess.run(c, feed_dict={a: 2})\n"
   ]
  },
  {
   "cell_type": "code",
   "execution_count": null,
   "metadata": {
    "collapsed": true
   },
   "outputs": [],
   "source": [
    "export_path_base = 'Model_B'\n",
    "model_version = '1'\n",
    "export_path = os.path.join(export_path_base, model_version)\n",
    "\n",
    "builder = tf.saved_model.builder.SavedModelBuilder(export_path)\n",
    "\n",
    "tensor_info_a = tf.saved_model.utils.build_tensor_info(a)\n",
    "tensor_info_c = tf.saved_model.utils.build_tensor_info(c)"
   ]
  },
  {
   "cell_type": "code",
   "execution_count": null,
   "metadata": {
    "collapsed": true
   },
   "outputs": [],
   "source": [
    "prediction_signature = (\n",
    "  tf.saved_model.signature_def_utils.build_signature_def(\n",
    "  inputs={'input': tensor_info_a},\n",
    "  outputs={'output': tensor_info_c},\n",
    "  method_name=tf.saved_model.signature_constants.PREDICT_METHOD_NAME))"
   ]
  },
  {
   "cell_type": "code",
   "execution_count": null,
   "metadata": {},
   "outputs": [],
   "source": [
    "builder.add_meta_graph_and_variables(\n",
    "    sess,\n",
    "    [tf.saved_model.tag_constants.SERVING],\n",
    "      signature_def_map={\n",
    "        'serving_default':\n",
    "            prediction_signature\n",
    "    }\n",
    ") \n",
    "builder.save()"
   ]
  },
  {
   "cell_type": "code",
   "execution_count": null,
   "metadata": {
    "collapsed": true
   },
   "outputs": [],
   "source": []
  }
 ],
 "metadata": {
  "kernelspec": {
   "display_name": "tensorflow_serving",
   "language": "python",
   "name": "tensorflow_serving"
  },
  "language_info": {
   "codemirror_mode": {
    "name": "ipython",
    "version": 3
   },
   "file_extension": ".py",
   "mimetype": "text/x-python",
   "name": "python",
   "nbconvert_exporter": "python",
   "pygments_lexer": "ipython3",
   "version": "3.5.2"
  }
 },
 "nbformat": 4,
 "nbformat_minor": 2
}
