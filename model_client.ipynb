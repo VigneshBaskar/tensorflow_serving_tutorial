{
 "cells": [
  {
   "cell_type": "code",
   "execution_count": null,
   "metadata": {
    "collapsed": true
   },
   "outputs": [],
   "source": [
    "from predict_client.prod_client import ProdClient"
   ]
  },
  {
   "cell_type": "code",
   "execution_count": null,
   "metadata": {},
   "outputs": [],
   "source": [
    "client_1 = ProdClient('localhost:9000', 'model_sub', 1)\n",
    "client_2 = ProdClient('localhost:9000', 'model_add', 4)"
   ]
  },
  {
   "cell_type": "code",
   "execution_count": null,
   "metadata": {},
   "outputs": [],
   "source": [
    "req_data = [{'in_tensor_name': 'input', 'in_tensor_dtype': 'DT_INT32', 'data': 5}]\n",
    "print(client_1.predict(req_data))\n",
    "\n",
    "req_data = [{'in_tensor_name': 'input', 'in_tensor_dtype': 'DT_INT32', 'data': 5}]\n",
    "print(client_2.predict(req_data))"
   ]
  }
 ],
 "metadata": {
  "kernelspec": {
   "display_name": "tensorflow_serving",
   "language": "python",
   "name": "tensorflow_serving"
  },
  "language_info": {
   "codemirror_mode": {
    "name": "ipython",
    "version": 3
   },
   "file_extension": ".py",
   "mimetype": "text/x-python",
   "name": "python",
   "nbconvert_exporter": "python",
   "pygments_lexer": "ipython3",
   "version": "3.5.2"
  }
 },
 "nbformat": 4,
 "nbformat_minor": 2
}
